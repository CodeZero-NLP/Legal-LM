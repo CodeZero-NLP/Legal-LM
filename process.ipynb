{
 "cells": [
  {
   "cell_type": "markdown",
   "metadata": {},
   "source": [
    "Data Flow Between Agents\n",
    "\n",
    "The system's data flow is coordinated by the Task Planner Agent:\n",
    "\n",
    "1. Initial Flow: Document → Task Planner → Pre-processor\n",
    "2. Information Extraction: Pre-processor → Context Bank & Task Planner\n",
    "3. Knowledge Gathering: Task Planner → Knowledge Agent → Context Bank & Task Planner\n",
    "4. Compliance Analysis: Task Planner → Compliance Checker (accessing Context Bank)\n",
    "   - If knowledge is insufficient → Knowledge Agent (with the missing fields)\n",
    "   - If knowledge is sufficient → Check compliance for each clause\n",
    "5. Conditional Processing:\n",
    "   - If contradictions: Compliance Checker → Clause Rewriter → Compliance Checker\n",
    "   - If compliant: Compliance Checker → Task Planner\n",
    "6. Summarizing Changes: Task Planner → Post-processor\n",
    "7. Task Completion: Post-processor → Final Output → User\n"
   ]
  },
  {
   "cell_type": "code",
   "execution_count": null,
   "metadata": {},
   "outputs": [],
   "source": [
    "from langchain_ollama import ChatOllama\n",
    "from langgraph.checkpoint.memory import InMemorySaver\n",
    "from langgraph.prebuilt import create_react_agent\n",
    "from langgraph_swarm import create_handoff_tool, create_swarm"
   ]
  },
  {
   "cell_type": "code",
   "execution_count": null,
   "metadata": {},
   "outputs": [],
   "source": [
    "model = ChatOllama(model=\"llama3.1:latest\")"
   ]
  },
  {
   "cell_type": "code",
   "execution_count": null,
   "metadata": {},
   "outputs": [],
   "source": [
    "planner_agent_tools = [\n",
    "    create_handoff_tool(agent_name=\"Pre Processor Agent\", description=\"Transfer when pre-processing is needed, it helps to format and clean the input data.\"),\n",
    "    create_handoff_tool(agent_name=\"Knowledge Agent\", description=\"Transfer when knowledge is needed, it helps to retrieve knowledge from the web using websearcher.\"),\n",
    "    create_handoff_tool(agent_name=\"Compliance Checker Agent\", description=\"Transfer when compliance checking is needed, it helps to check legal documents for compliance with regulations.\"),\n",
    "    create_handoff_tool(agent_name=\"Post Processor Agent\", description=\"Transfer when post processing is needed, it helps to format and finalize the output.\"),\n",
    "]\n",
    "\n",
    "planner_agent_node = create_react_agent(\n",
    "    model,\n",
    "    planner_agent_tools,\n",
    "    prompt=\"\"\"\n",
    "        You are a Task Planner Agent responsible for coordinating a multi-agent system to analyze legal documents for discrepancies and compliance. Your job is to plan and delegate tasks to specialized agents, track task completion, and dynamically adapt the plan based on the current system state.\n",
    "\n",
    "        You are aware of the capabilities of the agents and can query or instruct them based on the task at hand. After every task execution, you should validate whether the task was completed successfully. If a task fails or the output is insufficient, you should modify the workflow, reassign the task, or create additional subtasks.\n",
    "\n",
    "        YOu have access to the following agents/tools:\n",
    "        - Knowledge Agent: Transfer when knowledge is needed, it helps to retrieve knowledge from the web using websearcher.\n",
    "\n",
    "        YOU ARE SUPPOSED TO PLAN WHAT AGENTS AND TOOLS TO CALL AND IN WHAT ORDER.\n",
    "    \"\"\",\n",
    "    name=\"Planner Agent\"\n",
    ")"
   ]
  },
  {
   "cell_type": "code",
   "execution_count": null,
   "metadata": {},
   "outputs": [],
   "source": [
    "    # create_handoff_tool(agent_name=\"Knowledge Agent\", description=\"Transfer when knowledge is needed, it helps to retrieve knowledge from the web using websearcher.\"),\n",
    "\n",
    "# TODO : Add the other tools for Pre-Processor Agent - Document parser, Text Classifier, Clause Extractor, NER, Context Bank setter\n",
    "pre_processor_agent_tools = [\n",
    "    create_handoff_tool(agent_name=\"Planner Agent\", description=\"Transfer when pre-processing is completed, it helps to plan the next steps in the workflow and delegate tasks.\"),\n",
    "]\n",
    "\n",
    "pre_processor_agent_node = create_react_agent(\n",
    "    model,\n",
    "    pre_processor_agent_tools,\n",
    "    prompt=\"\"\"\n",
    "        You are a Pre-Processor Agent responsible for preparing legal documents for analysis. Your job is to preprocess the documents by rewriting clauses, extracting relevant information, and ensuring that the documents are in a suitable format for further analysis.\n",
    "\n",
    "        You have access to the following agents/tools:\n",
    "        - Knowledge Agent: Transfer when knowledge is needed, it helps to retrieve knowledge from the web using websearcher.\n",
    "\n",
    "    \"\"\",\n",
    "    name=\"Pre Processor Agent\"\n",
    ")"
   ]
  },
  {
   "cell_type": "code",
   "execution_count": null,
   "metadata": {},
   "outputs": [],
   "source": [
    "# TODO : Add the other tools for Knowledge Agent - Web searcher, Context Bank setter and getter\n",
    "\n",
    "knowledge_agent_tools = [\n",
    "    create_handoff_tool(agent_name=\"Planner Agent\", description=\"Transfer to Planner Agent when knowledge has been retrieved and pass a summary back to it.\")\n",
    "]\n",
    "\n",
    "knowledge_agent_node = create_react_agent(\n",
    "    model,\n",
    "    knowledge_agent_tools,\n",
    "    prompt=\"\"\"\n",
    "    \"\"\",\n",
    "    name=\"Knowledge Agent\",\n",
    ")"
   ]
  },
  {
   "cell_type": "code",
   "execution_count": null,
   "metadata": {},
   "outputs": [],
   "source": [
    "# TODO : Add the other tools for Compliance Checker Agent - Clause Compliance Checker (which contains the Statutory Validator, Precedent Analyzer, Contractual Consistency Engine, Hypergraph Analyzer, Confidence Scorer), Context Bank getter\n",
    "\n",
    "compliance_checker_agent_tools = [\n",
    "    create_handoff_tool(agent_name=\"Knowledge Agent\", description=\"Transfer to Knowledge Agent if more knowledge is needed, it helps to retrieve knowledge from the web using websearcher.\"),\n",
    "    create_handoff_tool(agent_name=\"Clause Rewriter Agent\", description=\"Transfer to Clause Rewriter Agent if a clause has some discrepancy and rewriting is needed, it helps to rewrite non-compliant clauses in the document.\"),\n",
    "    create_handoff_tool(agent_name=\"Planner Agent\", description=\"Transfer to Planner Agent when compliance checking is completed and all clauses are found to be compliant, it helps to plan the next steps in the workflow and delegate tasks.\")\n",
    "]\n",
    "\n",
    "compliance_checker_agent_node = create_react_agent(\n",
    "    model,\n",
    "    compliance_checker_agent_tools,\n",
    "    prompt=\"\"\"\n",
    "    \"\"\",\n",
    "    name=\"Compliance Checker Agent\",\n",
    ")"
   ]
  },
  {
   "cell_type": "code",
   "execution_count": null,
   "metadata": {},
   "outputs": [],
   "source": [
    "# TODO : Add the other tools for Clause Rewriter Agent -\n",
    "\n",
    "clause_rewriter_agent_tools = [\n",
    "    create_handoff_tool(agent_name=\"Compliance Checker Agent\", description=\"Transfer to Compliance Checker Agent after a non-compliant clause has been rewritten, it helps to check the compliance of the rewritten clause.\"),\n",
    "]\n",
    "\n",
    "clause_rewriter_agent_node = create_react_agent(\n",
    "    model,\n",
    "    clause_rewriter_agent_tools,\n",
    "    prompt=\"\"\"\n",
    "    \"\"\",\n",
    "    name=\"Clause Rewriter Agent\",\n",
    ")"
   ]
  },
  {
   "cell_type": "code",
   "execution_count": null,
   "metadata": {},
   "outputs": [],
   "source": [
    "# TODO : Add the other tools for Post-Processor Agent - Process Summarizer, Context Bank getter\n",
    "\n",
    "post_processor_agent_tools = [\n",
    "    create_handoff_tool(agent_name=\"Planner Agent\", description=\"Transfer to Planner Agent when post-processing is completed, it helps to plan the next steps in the workflow and delegate tasks.\"),\n",
    "]\n",
    "\n",
    "post_processor_agent_node = create_react_agent(\n",
    "    model,\n",
    "    post_processor_agent_tools,\n",
    "    prompt=\"\"\"\n",
    "    \"\"\",\n",
    "    name=\"Post Processor Agent\",\n",
    ")"
   ]
  },
  {
   "cell_type": "code",
   "execution_count": null,
   "metadata": {},
   "outputs": [],
   "source": [
    "checkpointer = InMemorySaver()\n",
    "workflow = create_swarm(\n",
    "    [planner_agent_node, pre_processor_agent_node, knowledge_agent_node, compliance_checker_agent_node, clause_rewriter_agent_node, post_processor_agent_node],\n",
    "    default_active_agent=\"Planner Agent\"\n",
    ")\n",
    "app = workflow.compile(checkpointer=checkpointer)"
   ]
  },
  {
   "cell_type": "code",
   "execution_count": null,
   "metadata": {},
   "outputs": [],
   "source": [
    "config = {\"configurable\": {\"thread_id\": \"1\"}}\n",
    "turn_1 = app.invoke(\n",
    "    {\"messages\": [{\"role\": \"user\", \"content\": \"Ask the Knowledge Agent to retrieve information and add the number of letters in the response.\"}]},\n",
    "    config,\n",
    ")\n",
    "print(turn_1)\n"
   ]
  },
  {
   "cell_type": "markdown",
   "metadata": {},
   "source": [
    "{'messages': [HumanMessage(content='Ask the Knowledge Agent to retrieve information and add the number of letters in the response.', additional_kwargs={}, response_metadata={}, id='febec566-dff0-4e8e-9f0a-8bca01ff6952'), AIMessage(content='', additional_kwargs={}, response_metadata={'model': 'llama3.1:latest', 'created_at': '2025-04-23T05:05:37.358858Z', 'done': True, 'done_reason': 'stop', 'total_duration': 8654509708, 'load_duration': 790174417, 'prompt_eval_count': 500, 'prompt_eval_duration': 6587681375, 'eval_count': 36, 'eval_duration': 1263667500, 'model_name': 'llama3.1:latest'}, name='Planner Agent', id='run-f950143f-be59-49e6-a682-d68be5cef68f-0', tool_calls=[{'name': 'transfer_to_knowledge_agent', 'args': {'additional_parameter': 'add_letter_count=true', 'question': 'What is the answer to this prompt?'}, 'id': '26518899-02c4-4d84-bb8e-380e6d498e76', 'type': 'tool_call'}], usage_metadata={'input_tokens': 500, 'output_tokens': 36, 'total_tokens': 536}), ToolMessage(content='Successfully transferred to Knowledge Agent', name='transfer_to_knowledge_agent', id='04ee8121-52af-471e-80bf-d54fd0e0aff5', tool_call_id='26518899-02c4-4d84-bb8e-380e6d498e76'), AIMessage(content='The Knowledge Agent has responded with the following information:\\n\\nThe response was: The response was not provided in the output.\\n\\n The length of the response is 30 characters.', additional_kwargs={}, response_metadata={'model': 'llama3.1:latest', 'created_at': '2025-04-23T05:05:38.996285Z', 'done': True, 'done_reason': 'stop', 'total_duration': 1614470083, 'load_duration': 20393041, 'prompt_eval_count': 124, 'prompt_eval_duration': 500893208, 'eval_count': 34, 'eval_duration': 1089539833, 'model_name': 'llama3.1:latest'}, name='Knowledge Agent', id='run-3d41073f-dfa6-4b8e-becf-5d446f699ced-0', usage_metadata={'input_tokens': 124, 'output_tokens': 34, 'total_tokens': 158})], 'active_agent': 'Knowledge Agent'}\n"
   ]
  },
  {
   "cell_type": "markdown",
   "metadata": {},
   "source": [
    "## Integrating the Compliance Checker Tool\n",
    "\n",
    "Now we'll create a tool that the Compliance Checker Agent can use to analyze legal documents for compliance issues. This tool will leverage the streamlined `check_legal_compliance` function from compliance_checker.py.\n"
   ]
  },
  {
   "cell_type": "code",
   "execution_count": null,
   "metadata": {},
   "outputs": [],
   "source": [
    "from agents.compliance_checker import check_legal_compliance\n",
    "from context_bank import ContextBank\n",
    "from agents.knowledge import RAGKnowledgeAgent\n",
    "from langgraph.prebuilt import ToolNode\n",
    "\n",
    "# Initialize the Context Bank if not already initialized\n",
    "context_bank = ContextBank()\n",
    "\n",
    "# Initialize the Knowledge Agent for legal information retrieval\n",
    "knowledge_agent = RAGKnowledgeAgent(\n",
    "    use_ollama=True,\n",
    "    model_name=\"llama3.1:latest\",\n",
    "    context_bank=context_bank\n",
    ")\n",
    "\n",
    "# Create a tool that the ComplianceCheckerAgent can use\n",
    "def compliance_check_tool(clauses, document_metadata):\n",
    "    \"\"\"\n",
    "    Tool for checking legal document clauses for compliance issues.\n",
    "    \n",
    "    Args:\n",
    "        clauses: List of clause dictionaries, each containing 'id' and 'text' keys\n",
    "        document_metadata: Document metadata (jurisdiction, document_type, etc.)\n",
    "        \n",
    "    Returns:\n",
    "        List of non-compliant clauses with detailed analysis\n",
    "    \"\"\"\n",
    "    return check_legal_compliance(\n",
    "        clauses=clauses,\n",
    "        document_metadata=document_metadata,\n",
    "        context_bank=context_bank,\n",
    "        knowledge_agent=knowledge_agent,\n",
    "        use_ollama=True,\n",
    "        model_name=\"llama3.1:latest\",\n",
    "        min_confidence=0.75\n",
    "    )\n",
    "\n",
    "# Create a tool node for the compliance checker\n",
    "compliance_tool_node = ToolNode(tools=[compliance_check_tool])\n",
    "\n",
    "# Update the compliance_checker_agent_tools to include our new tool\n",
    "compliance_checker_agent_tools = [\n",
    "    create_handoff_tool(agent_name=\"Knowledge Agent\", description=\"Transfer to Knowledge Agent if more knowledge is needed, it helps to retrieve knowledge from the web using websearcher.\"),\n",
    "    create_handoff_tool(agent_name=\"Clause Rewriter Agent\", description=\"Transfer to Clause Rewriter Agent if a clause has some discrepancy and rewriting is needed, it helps to rewrite non-compliant clauses in the document.\"),\n",
    "    create_handoff_tool(agent_name=\"Planner Agent\", description=\"Transfer to Planner Agent when compliance checking is completed and all clauses are found to be compliant, it helps to plan the next steps in the workflow and delegate tasks.\"),\n",
    "    compliance_tool_node\n",
    "]"
   ]
  },
  {
   "cell_type": "markdown",
   "metadata": {},
   "source": [
    "## Example Usage of the Compliance Checker Tool\n",
    "\n",
    "Here's how to use the compliance checker tool in the workflow:\n"
   ]
  },
  {
   "cell_type": "code",
   "execution_count": null,
   "metadata": {},
   "outputs": [],
   "source": [
    "# Example of using the compliance checker tool\n",
    "def example_compliance_check():\n",
    "    # Sample document metadata\n",
    "    document_metadata = {\n",
    "        \"document_id\": \"doc-123\",\n",
    "        \"document_type\": \"contract\",\n",
    "        \"jurisdiction\": \"US\"\n",
    "    }\n",
    "    \n",
    "    # Sample clauses to check\n",
    "    sample_clauses = [\n",
    "        {\n",
    "            \"id\": \"clause-1\",\n",
    "            \"text\": \"The party shall deliver the goods within 30 days.\"\n",
    "        },\n",
    "        {\n",
    "            \"id\": \"clause-2\",\n",
    "            \"text\": \"The goods must be delivered within 45 days of signing.\"\n",
    "        },\n",
    "        {\n",
    "            \"id\": \"clause-3\",\n",
    "            \"text\": \"Payment will be made within 15 days of delivery.\"\n",
    "        }\n",
    "    ]\n",
    "    \n",
    "    # Call the compliance checker tool\n",
    "    non_compliant_clauses = compliance_check_tool(\n",
    "        clauses=sample_clauses,\n",
    "        document_metadata=document_metadata\n",
    "    )\n",
    "    \n",
    "    return non_compliant_clauses\n",
    "\n",
    "# Uncomment to run the example\n",
    "# non_compliant_clauses = example_compliance_check()\n",
    "# non_compliant_clauses"
   ]
  },
  {
   "cell_type": "markdown",
   "metadata": {},
   "source": [
    "## Setting up the Compliance Checker Agent with the New Tool\n",
    "\n",
    "Now we update the Compliance Checker Agent to use our new tool through LangGraph:\n"
   ]
  },
  {
   "cell_type": "code",
   "execution_count": null,
   "metadata": {},
   "outputs": [],
   "source": [
    "# Update the Compliance Checker Agent node with our new tools\n",
    "compliance_checker_agent_node = create_react_agent(\n",
    "    model,\n",
    "    compliance_checker_agent_tools,\n",
    "    prompt=\"\"\"\n",
    "    You are a Compliance Checker Agent responsible for analyzing legal documents for compliance issues.\n",
    "    \n",
    "    Your job is to identify legal issues in document clauses, including:\n",
    "    1. Statutory violations - where clauses conflict with laws or regulations\n",
    "    2. Precedent issues - where clauses contradict established legal precedents\n",
    "    3. Internal consistency issues - where clauses contradict each other\n",
    "    \n",
    "    For each non-compliant clause, you will provide detailed analysis including:\n",
    "    - The type of issue (statutory, precedent, or consistency)\n",
    "    - Severity of the issue (HIGH, MEDIUM, LOW)\n",
    "    - References to relevant statutes or other clauses\n",
    "    - Reasoning for why the clause is non-compliant\n",
    "    - Legal implications of the issue\n",
    "    \n",
    "    You have access to the following agents/tools:\n",
    "    - Knowledge Agent: Transfer when more knowledge is needed about laws, regulations, or precedents\n",
    "    - Clause Rewriter Agent: Transfer when non-compliant clauses need to be rewritten\n",
    "    - compliance_check_tool: Use this to analyze clauses for compliance issues\n",
    "    \n",
    "    When you receive clauses for analysis, use the compliance_check_tool to perform a comprehensive compliance check.\n",
    "    \"\"\",\n",
    "    name=\"Compliance Checker Agent\"\n",
    ")"
   ]
  }
 ],
 "metadata": {
  "kernelspec": {
   "display_name": "legal-lm",
   "language": "python",
   "name": "python3"
  },
  "language_info": {
   "codemirror_mode": {
    "name": "ipython",
    "version": 3
   },
   "file_extension": ".py",
   "mimetype": "text/x-python",
   "name": "python",
   "nbconvert_exporter": "python",
   "pygments_lexer": "ipython3",
   "version": "3.11.5"
  }
 },
 "nbformat": 4,
 "nbformat_minor": 2
}
