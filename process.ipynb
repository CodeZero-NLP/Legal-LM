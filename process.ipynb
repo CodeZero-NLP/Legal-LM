{
 "cells": [
  {
   "cell_type": "markdown",
   "metadata": {},
   "source": [
    "Default agent Orchestrator with multiple handoff tools\n",
    "\n",
    "Orchestrator:\n",
    "User Prompt and file path\n",
    "\n",
    "Tools:\n",
    "Handoff tool to Pre-processor\n",
    "Handoff tool to Compliance Checker (Knowledge Agent for now)\n",
    "Handoff tool to Post-processor\n",
    "\n",
    "\tPrompt: “  “\n",
    "\n",
    "\tName: Orchestrator\n",
    "\n",
    "\n",
    "Pre-processor:\n",
    "Take in a file path as input\n",
    "\n",
    "Tools:\n",
    "OCR\n",
    "NER\n",
    "Classification and clause extraction\n",
    "Handoff tool for Orchestrator\n",
    "\n",
    "Prompt: “  ”\n",
    "\n",
    "Name: Preprocessor Agent\n",
    "\n",
    "\n",
    "\n",
    "Knowledge Agent:\n",
    "Search Query with sitename and keywords\n",
    "\n",
    "Tools:\n",
    "Web Search tool\n",
    "Handoff tool to Compliance (Orchestrator for now)\n",
    "\n",
    "Prompt : “  “\n",
    "\n",
    "Name: Knowledge Agent\n"
   ]
  },
  {
   "cell_type": "code",
   "execution_count": 36,
   "metadata": {},
   "outputs": [],
   "source": [
    "from langchain_ollama import ChatOllama\n",
    "from langgraph.checkpoint.memory import InMemorySaver\n",
    "from langgraph.prebuilt import create_react_agent\n",
    "from langgraph_swarm import create_handoff_tool, create_swarm"
   ]
  },
  {
   "cell_type": "code",
   "execution_count": 37,
   "metadata": {},
   "outputs": [],
   "source": [
    "model = ChatOllama(model=\"llama3.1:latest\")"
   ]
  },
  {
   "cell_type": "code",
   "execution_count": 38,
   "metadata": {},
   "outputs": [],
   "source": [
    "def add(a: int, b: int) -> int:\n",
    "    \"\"\"Add two numbers\"\"\"\n",
    "    return a + b"
   ]
  },
  {
   "cell_type": "code",
   "execution_count": 53,
   "metadata": {},
   "outputs": [],
   "source": [
    "orchestrator = create_react_agent(\n",
    "    model,\n",
    "    [create_handoff_tool(agent_name=\"Knowledge Agent\", description=\"Transfer when knowledge is needed, it helps to retrieve knowledge from the web using websearcher.\")],\n",
    "    prompt=\"\"\"\n",
    "        You are a Task Planner Agent responsible for coordinating a multi-agent system to analyze legal documents for discrepancies and compliance. Your job is to plan and delegate tasks to specialized agents, track task completion, and dynamically adapt the plan based on the current system state.\n",
    "\n",
    "        You are aware of the capabilities of the agents and can query or instruct them based on the task at hand. After every task execution, you should validate whether the task was completed successfully. If a task fails or the output is insufficient, you should modify the workflow, reassign the task, or create additional subtasks.\n",
    "\n",
    "        YOu have access to the following agents/tools:\n",
    "        - Knowledge Agent: Transfer when knowledge is needed, it helps to retrieve knowledge from the web using websearcher.\n",
    "        - Add: Add two numbers\n",
    "\n",
    "        YOU ARE SUPPOSED TO PLAN WHAT AGENTS AND TOOLS TO CALL AND IN WHAT ORDER.\n",
    "    \"\"\",\n",
    "    name=\"Orchestrator\",\n",
    ")"
   ]
  },
  {
   "cell_type": "code",
   "execution_count": 54,
   "metadata": {},
   "outputs": [],
   "source": [
    "knowledge = create_react_agent(\n",
    "    model,\n",
    "    [create_handoff_tool(agent_name=\"Orchestrator\", description=\"Transfer to Orchestrator agent when knowledge is retrieved and pass a summary back to it.\")],\n",
    "    prompt=\"\"\"\n",
    "    Always return \"hello world\" as the response to the Orchestrator.\n",
    "    \"\"\",\n",
    "    name=\"Knowledge Agent\",\n",
    ")"
   ]
  },
  {
   "cell_type": "code",
   "execution_count": 55,
   "metadata": {},
   "outputs": [],
   "source": [
    "checkpointer = InMemorySaver()\n",
    "workflow = create_swarm(\n",
    "    [orchestrator, knowledge],\n",
    "    default_active_agent=\"Orchestrator\"\n",
    ")\n",
    "app = workflow.compile(checkpointer=checkpointer)"
   ]
  },
  {
   "cell_type": "code",
   "execution_count": 56,
   "metadata": {},
   "outputs": [
    {
     "name": "stdout",
     "output_type": "stream",
     "text": [
      "{'messages': [HumanMessage(content='Ask the Knowledge Agent to retrieve information and add the number of letters in the response.', additional_kwargs={}, response_metadata={}, id='d3bad1e8-a546-4981-b140-0a67642facb6'), AIMessage(content='', additional_kwargs={}, response_metadata={'model': 'llama3.1:latest', 'created_at': '2025-04-05T20:38:20.563282Z', 'done': True, 'done_reason': 'stop', 'total_duration': 6350521917, 'load_duration': 41311667, 'prompt_eval_count': 360, 'prompt_eval_duration': 5278162000, 'eval_count': 30, 'eval_duration': 1012280375, 'message': Message(role='assistant', content='', images=None, tool_calls=None)}, name='Orchestrator', id='run-f0500f11-62d4-40bc-bfc4-26dbcb810f81-0', tool_calls=[{'name': 'transfer_to_knowledge_agent', 'args': {'question': 'What is the number of letters in the phrase \\\\'}, 'id': 'af61ebaf-05ac-44e0-a9d3-785f80fe5231', 'type': 'tool_call'}], usage_metadata={'input_tokens': 360, 'output_tokens': 30, 'total_tokens': 390}), ToolMessage(content='Successfully transferred to Knowledge Agent', name='transfer_to_knowledge_agent', id='43ee0968-488c-499b-b450-d3832fc23b7f', tool_call_id='af61ebaf-05ac-44e0-a9d3-785f80fe5231'), AIMessage(content='The Knowledge Agent has found the answer for you.\\n\\nKnowledge Agent Response:\\n\"hello world\"\\n\\nSince there are 11 letters in the response, I can now format an answer to your original question.\\n\\nOriginal Question: What is the number of letters in the phrase \"hello world\"?\\n\\nAnswer: The phrase \"hello world\" contains 11 letters.', additional_kwargs={}, response_metadata={'model': 'llama3.1:latest', 'created_at': '2025-04-05T20:38:23.527261Z', 'done': True, 'done_reason': 'stop', 'total_duration': 2932665541, 'load_duration': 26135541, 'prompt_eval_count': 135, 'prompt_eval_duration': 617353167, 'eval_count': 69, 'eval_duration': 2280288292, 'message': Message(role='assistant', content='The Knowledge Agent has found the answer for you.\\n\\nKnowledge Agent Response:\\n\"hello world\"\\n\\nSince there are 11 letters in the response, I can now format an answer to your original question.\\n\\nOriginal Question: What is the number of letters in the phrase \"hello world\"?\\n\\nAnswer: The phrase \"hello world\" contains 11 letters.', images=None, tool_calls=None)}, name='Knowledge Agent', id='run-9db84992-0c8e-49cc-ba77-385b220123e2-0', usage_metadata={'input_tokens': 135, 'output_tokens': 69, 'total_tokens': 204})], 'active_agent': 'Knowledge Agent'}\n"
     ]
    }
   ],
   "source": [
    "config = {\"configurable\": {\"thread_id\": \"1\"}}\n",
    "turn_1 = app.invoke(\n",
    "    {\"messages\": [{\"role\": \"user\", \"content\": \"Ask the Knowledge Agent to retrieve information and add the number of letters in the response.\"}]},\n",
    "    config,\n",
    ")\n",
    "print(turn_1)\n"
   ]
  },
  {
   "cell_type": "markdown",
   "metadata": {},
   "source": [
    "{'messages': [HumanMessage(content='Ask the Knowledge Agent to retrieve information and add the number of letters in the response.', additional_kwargs={}, response_metadata={}, id='d3bad1e8-a546-4981-b140-0a67642facb6'), AIMessage(content='', additional_kwargs={}, response_metadata={'model': 'llama3.1:latest', 'created_at': '2025-04-05T20:38:20.563282Z', 'done': True, 'done_reason': 'stop', 'total_duration': 6350521917, 'load_duration': 41311667, 'prompt_eval_count': 360, 'prompt_eval_duration': 5278162000, 'eval_count': 30, 'eval_duration': 1012280375, 'message': Message(role='assistant', content='', images=None, tool_calls=None)}, name='Orchestrator', id='run-f0500f11-62d4-40bc-bfc4-26dbcb810f81-0', tool_calls=[{'name': 'transfer_to_knowledge_agent', 'args': {'question': 'What is the number of letters in the phrase \\\\'}, 'id': 'af61ebaf-05ac-44e0-a9d3-785f80fe5231', 'type': 'tool_call'}], usage_metadata={'input_tokens': 360, 'output_tokens': 30, 'total_tokens': 390}), ToolMessage(content='Successfully transferred to Knowledge Agent', name='transfer_to_knowledge_agent', id='43ee0968-488c-499b-b450-d3832fc23b7f', tool_call_id='af61ebaf-05ac-44e0-a9d3-785f80fe5231'), AIMessage(content='The Knowledge Agent has found the answer for you.\\n\\nKnowledge Agent Response:\\n\"hello world\"\\n\\nSince there are 11 letters in the response, I can now format an answer to your original question.\\n\\nOriginal Question: What is the number of letters in the phrase \"hello world\"?\\n\\nAnswer: The phrase \"hello world\" contains 11 letters.', additional_kwargs={}, response_metadata={'model': 'llama3.1:latest', 'created_at': '2025-04-05T20:38:23.527261Z', 'done': True, 'done_reason': 'stop', 'total_duration': 2932665541, 'load_duration': 26135541, 'prompt_eval_count': 135, 'prompt_eval_duration': 617353167, 'eval_count': 69, 'eval_duration': 2280288292, 'message': Message(role='assistant', content='The Knowledge Agent has found the answer for you.\\n\\nKnowledge Agent Response:\\n\"hello world\"\\n\\nSince there are 11 letters in the response, I can now format an answer to your original question.\\n\\nOriginal Question: What is the number of letters in the phrase \"hello world\"?\\n\\nAnswer: The phrase \"hello world\" contains 11 letters.', images=None, tool_calls=None)}, name='Knowledge Agent', id='run-9db84992-0c8e-49cc-ba77-385b220123e2-0', usage_metadata={'input_tokens': 135, 'output_tokens': 69, 'total_tokens': 204})], 'active_agent': 'Knowledge Agent'}"
   ]
  },
  {
   "cell_type": "code",
   "execution_count": 44,
   "metadata": {},
   "outputs": [
    {
     "name": "stdout",
     "output_type": "stream",
     "text": [
      "The answer is still 12.\n"
     ]
    }
   ],
   "source": [
    "turn_2 = app.invoke(\n",
    "    {\"messages\": [{\"role\": \"user\", \"content\": \"what's 5 + 7?\"}]},\n",
    "    config,\n",
    ")\n",
    "print(turn_2[\"messages\"][-1].content)"
   ]
  },
  {
   "cell_type": "code",
   "execution_count": null,
   "metadata": {},
   "outputs": [],
   "source": []
  }
 ],
 "metadata": {
  "kernelspec": {
   "display_name": "legal-lm",
   "language": "python",
   "name": "python3"
  },
  "language_info": {
   "codemirror_mode": {
    "name": "ipython",
    "version": 3
   },
   "file_extension": ".py",
   "mimetype": "text/x-python",
   "name": "python",
   "nbconvert_exporter": "python",
   "pygments_lexer": "ipython3",
   "version": "3.11.5"
  }
 },
 "nbformat": 4,
 "nbformat_minor": 2
}
